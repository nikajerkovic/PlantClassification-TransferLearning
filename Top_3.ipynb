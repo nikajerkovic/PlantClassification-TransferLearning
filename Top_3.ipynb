{
  "nbformat": 4,
  "nbformat_minor": 0,
  "metadata": {
    "colab": {
      "provenance": []
    },
    "kernelspec": {
      "name": "python3",
      "display_name": "Python 3"
    },
    "language_info": {
      "name": "python"
    },
    "accelerator": "GPU",
    "gpuClass": "standard"
  },
  "cells": [
    {
      "cell_type": "code",
      "source": [
        "import tensorflow as tf\n",
        "import tensorflow_datasets as tfds\n",
        "\n",
        "import pandas as pd\n",
        "import matplotlib.pyplot as plt\n",
        "import inspect\n",
        "from tqdm import tqdm\n",
        "\n",
        "from sklearn import metrics\n",
        "from sklearn.metrics import ConfusionMatrixDisplay\n",
        "import numpy as np\n",
        "\n",
        "\n",
        "# Set batch size for training and validation\n",
        "batch_size = 32"
      ],
      "metadata": {
        "id": "uC-43blft1_4"
      },
      "execution_count": null,
      "outputs": []
    },
    {
      "cell_type": "code",
      "execution_count": null,
      "metadata": {
        "colab": {
          "base_uri": "https://localhost:8080/"
        },
        "id": "GR2NnBpY3Dov",
        "outputId": "9c267f62-2733-4fed-d59d-5321aacda826"
      },
      "outputs": [
        {
          "output_type": "stream",
          "name": "stdout",
          "text": [
            "Looking in indexes: https://pypi.org/simple, https://us-python.pkg.dev/colab-wheels/public/simple/\n",
            "Requirement already satisfied: split-folders in /usr/local/lib/python3.7/dist-packages (0.5.1)\n"
          ]
        }
      ],
      "source": [
        "pip install split-folders"
      ]
    },
    {
      "cell_type": "code",
      "source": [
        "from google.colab import drive\n",
        "drive.mount('/content/drive')"
      ],
      "metadata": {
        "colab": {
          "base_uri": "https://localhost:8080/"
        },
        "id": "VQ68_Y-ocsxI",
        "outputId": "7292a84b-3505-4eb0-f994-2046c1dde499"
      },
      "execution_count": null,
      "outputs": [
        {
          "output_type": "stream",
          "name": "stdout",
          "text": [
            "Drive already mounted at /content/drive; to attempt to forcibly remount, call drive.mount(\"/content/drive\", force_remount=True).\n"
          ]
        }
      ]
    },
    {
      "cell_type": "code",
      "source": [
        "import splitfolders\n",
        "from keras.preprocessing import image"
      ],
      "metadata": {
        "id": "FmQ4kSRkaTYH"
      },
      "execution_count": null,
      "outputs": []
    },
    {
      "cell_type": "code",
      "source": [
        "splitfolders.ratio('/content/drive/MyDrive/cvice', output=\"output\",\n",
        "    seed=1337, ratio=(.7, .15, .15), group_prefix=None)"
      ],
      "metadata": {
        "colab": {
          "base_uri": "https://localhost:8080/"
        },
        "id": "3_Sip6lJaco8",
        "outputId": "b89ea05d-a43c-437c-90bb-59e380753daa"
      },
      "execution_count": null,
      "outputs": [
        {
          "output_type": "stream",
          "name": "stderr",
          "text": [
            "Copying files: 689 files [00:34, 20.13 files/s]\n"
          ]
        }
      ]
    },
    {
      "cell_type": "code",
      "source": [
        "def preprocess_data(batch_size, img_size):\n",
        "  #train_gen = image.ImageDataGenerator(rescale = 1./255.)\n",
        "  train_gen = image.ImageDataGenerator(rescale = 1./255.,\n",
        "                                      rotation_range=25,\n",
        "                                      width_shift_range = 0.3,\n",
        "                                      height_shift_range = 0.25,\n",
        "                                      zoom_range = 0.3,\n",
        "                                      horizontal_flip = True,\n",
        "                                      vertical_flip= True\n",
        "                                     )\n",
        "  train_generator = train_gen.flow_from_directory(\n",
        "                                      \"/content/output/train\",\n",
        "                                      target_size = img_size,\n",
        "                                      class_mode = \"categorical\",\n",
        "                                      shuffle = True,\n",
        "                                      batch_size = batch_size\n",
        "                                      )\n",
        "  val_datagen = image.ImageDataGenerator(rescale = 1./255.)\n",
        "  val_generator = val_datagen.flow_from_directory(\"/content/output/val\",\n",
        "                                         target_size = img_size,\n",
        "                                         class_mode = 'categorical',\n",
        "                                         batch_size=batch_size,\n",
        "                                         shuffle = False)\n",
        "  test_datagen = image.ImageDataGenerator(rescale = 1./255.)\n",
        "  test_generator = test_datagen.flow_from_directory(\"/content/output/test\",\n",
        "                                         target_size = img_size,\n",
        "                                         class_mode = 'categorical',\n",
        "                                         batch_size=batch_size,\n",
        "                                         shuffle= False)\n",
        "  return train_generator,val_generator,test_generator"
      ],
      "metadata": {
        "id": "fOWM34iEtpGx"
      },
      "execution_count": null,
      "outputs": []
    },
    {
      "cell_type": "code",
      "source": [
        "train_processed_224, validation_processed_224, test_processed_224 = preprocess_data(batch_size, img_size=[224,224])\n",
        "train_processed_299, validation_processed_299, test_processed_299 = preprocess_data(batch_size, img_size=[299,299])"
      ],
      "metadata": {
        "colab": {
          "base_uri": "https://localhost:8080/"
        },
        "id": "zqlf8oZ6uHz1",
        "outputId": "0cc84e31-259e-4f28-c95d-ba29c5601d03"
      },
      "execution_count": null,
      "outputs": [
        {
          "output_type": "stream",
          "name": "stdout",
          "text": [
            "Found 472 images belonging to 20 classes.\n",
            "Found 93 images belonging to 20 classes.\n",
            "Found 124 images belonging to 20 classes.\n",
            "Found 472 images belonging to 20 classes.\n",
            "Found 93 images belonging to 20 classes.\n",
            "Found 124 images belonging to 20 classes.\n"
          ]
        }
      ]
    },
    {
      "cell_type": "code",
      "source": [
        "num_train =train_processed_224.samples\n",
        "num_validation =  validation_processed_224.samples\n",
        "num_classes = len(list( validation_processed_224.class_indices.keys()))\n",
        "num_iterations = int(num_train/batch_size)\n",
        "\n",
        "# Print important info\n",
        "print(f'Num train images: {num_train} \\\n",
        "        \\nNum validation images: {num_validation} \\\n",
        "        \\nNum classes: {num_classes} \\\n",
        "        \\nNum iterations per epoch: {num_iterations}')"
      ],
      "metadata": {
        "colab": {
          "base_uri": "https://localhost:8080/"
        },
        "id": "Q_hNVlmzuUD_",
        "outputId": "c61a45bc-06e0-4e57-d980-9f530f025958"
      },
      "execution_count": null,
      "outputs": [
        {
          "output_type": "stream",
          "name": "stdout",
          "text": [
            "Num train images: 472         \n",
            "Num validation images: 93         \n",
            "Num classes: 20         \n",
            "Num iterations per epoch: 14\n"
          ]
        }
      ]
    },
    {
      "cell_type": "code",
      "source": [
        "# List all available models\n",
        "model_dictionary = {m[0]:m[1] for m in inspect.getmembers(tf.keras.applications, inspect.isfunction)}"
      ],
      "metadata": {
        "id": "YBMlflQl88Lk"
      },
      "execution_count": null,
      "outputs": []
    },
    {
      "cell_type": "code",
      "source": [
        "new_model_dict = {key: model_dictionary[key] for key in model_dictionary  if key in ['ResNet50V2','ResNet101V2']}"
      ],
      "metadata": {
        "id": "By3K8z589AuC"
      },
      "execution_count": null,
      "outputs": []
    },
    {
      "cell_type": "markdown",
      "source": [
        "Rezultat za sve 3, 10 epoha:"
      ],
      "metadata": {
        "id": "p9ufKEdj0KYQ"
      }
    },
    {
      "cell_type": "code",
      "source": [
        "model_benchmarks = {'model_name': [], 'num_model_params': [], 'validation_accuracy': [], 'test_accuracy': []}\n",
        "for model_name, model in tqdm(new_model_dict.items()):\n",
        "    if 'Xception' in model_name:\n",
        "        input_shape=(299,299,3)\n",
        "        train_processed = train_processed_299\n",
        "        validation_processed = validation_processed_299\n",
        "        test_processed = test_processed_299\n",
        "    else:\n",
        "        input_shape=(224,224,3)\n",
        "        train_processed = train_processed_224\n",
        "        validation_processed = validation_processed_224\n",
        "        test_processed = test_processed_224\n",
        "\n",
        "    # load the pre-trained model with global average pooling as the last layer and freeze the model weights\n",
        "    pre_trained_model = model(include_top=False, pooling='avg', input_shape=input_shape)\n",
        "    pre_trained_model.trainable = False\n",
        "\n",
        "    # custom modifications on top of pre-trained model\n",
        "    clf_model = tf.keras.models.Sequential()\n",
        "    clf_model.add(pre_trained_model)\n",
        "    clf_model.add(tf.keras.layers.Dense(num_classes, activation='softmax'))\n",
        "    clf_model.compile(optimizer='adam',loss='categorical_crossentropy', metrics=['accuracy'])\n",
        "    history = clf_model.fit(train_processed, epochs=10, validation_data=validation_processed,\n",
        "                            steps_per_epoch=num_iterations)\n",
        "    test_acc = clf_model.evaluate(test_processed)\n",
        "    predictions = clf_model.predict(test_processed)\n",
        "    predicted_classes = np.argmax(predictions, axis=1)\n",
        "    true_classes = test_processed.classes\n",
        "    class_labels = list(test_processed.class_indices.keys())\n",
        "\n",
        "    report = metrics.classification_report(true_classes, predicted_classes, target_names=class_labels)\n",
        "    print(report)\n",
        "\n",
        "    # Calculate all relevant metrics\n",
        "    model_benchmarks['model_name'].append(model_name)\n",
        "    model_benchmarks['num_model_params'].append(pre_trained_model.count_params())\n",
        "    model_benchmarks['validation_accuracy'].append(history.history['val_accuracy'][-1])\n",
        "    model_benchmarks['test_accuracy'].append(test_acc[-1])"
      ],
      "metadata": {
        "colab": {
          "base_uri": "https://localhost:8080/"
        },
        "id": "r6zQIQIM9znU",
        "outputId": "b96e86d1-1da1-4cf5-dddf-f55d1a0d5f68"
      },
      "execution_count": null,
      "outputs": [
        {
          "output_type": "stream",
          "name": "stderr",
          "text": [
            "\r  0%|          | 0/3 [00:00<?, ?it/s]"
          ]
        },
        {
          "output_type": "stream",
          "name": "stdout",
          "text": [
            "Epoch 1/10\n",
            "14/14 [==============================] - 173s 12s/step - loss: 2.9843 - accuracy: 0.1591 - val_loss: 2.1067 - val_accuracy: 0.3441\n",
            "Epoch 2/10\n",
            "14/14 [==============================] - 142s 10s/step - loss: 2.0690 - accuracy: 0.4045 - val_loss: 1.5288 - val_accuracy: 0.5376\n",
            "Epoch 3/10\n",
            "14/14 [==============================] - 139s 10s/step - loss: 1.6224 - accuracy: 0.5545 - val_loss: 1.2346 - val_accuracy: 0.6237\n",
            "Epoch 4/10\n",
            "14/14 [==============================] - 139s 10s/step - loss: 1.3693 - accuracy: 0.6273 - val_loss: 1.0673 - val_accuracy: 0.6882\n",
            "Epoch 5/10\n",
            "14/14 [==============================] - 140s 10s/step - loss: 1.1765 - accuracy: 0.6909 - val_loss: 0.9523 - val_accuracy: 0.7312\n",
            "Epoch 6/10\n",
            "14/14 [==============================] - 139s 10s/step - loss: 1.0867 - accuracy: 0.6818 - val_loss: 0.8709 - val_accuracy: 0.7849\n",
            "Epoch 7/10\n",
            "14/14 [==============================] - 140s 10s/step - loss: 0.9509 - accuracy: 0.7682 - val_loss: 0.7807 - val_accuracy: 0.8172\n",
            "Epoch 8/10\n",
            "14/14 [==============================] - 140s 10s/step - loss: 0.8501 - accuracy: 0.7705 - val_loss: 0.7594 - val_accuracy: 0.8172\n",
            "Epoch 9/10\n",
            "14/14 [==============================] - 139s 10s/step - loss: 0.8265 - accuracy: 0.7795 - val_loss: 0.7196 - val_accuracy: 0.8280\n",
            "Epoch 10/10\n",
            "14/14 [==============================] - 139s 10s/step - loss: 0.7167 - accuracy: 0.8227 - val_loss: 0.6985 - val_accuracy: 0.8387\n",
            "4/4 [==============================] - 32s 8s/step - loss: 0.8464 - accuracy: 0.7581\n"
          ]
        },
        {
          "output_type": "stream",
          "name": "stderr",
          "text": [
            "\r 33%|███▎      | 1/3 [26:11<52:23, 1571.90s/it]"
          ]
        },
        {
          "output_type": "stream",
          "name": "stdout",
          "text": [
            "                                          precision    recall  f1-score   support\n",
            "\n",
            "                         Agave_americana       0.55      1.00      0.71         6\n",
            "                  Anacamptis_pyramidalis       0.50      1.00      0.67         4\n",
            "                         Aurinia_sinuata       0.80      0.57      0.67         7\n",
            "                   Campanula_pyramidalis       0.67      0.33      0.44         6\n",
            "                     Carduus_micropterus       1.00      0.80      0.89         5\n",
            "                 Chaerophyllum coloratum       1.00      1.00      1.00         6\n",
            "                       Consolida_regalis       0.75      0.86      0.80         7\n",
            "Convolvulus_althaeoides_ssp._tenuissimus       0.80      0.57      0.67         7\n",
            "         Coronilla_emerus_ssp._emeroides       0.86      0.75      0.80         8\n",
            "                         Echium_italicum       0.67      0.50      0.57         4\n",
            "        Euphorbia_characias_ssp_wulfenii       0.64      0.90      0.75        10\n",
            "                       Fibigia_triquetra       0.92      0.92      0.92        12\n",
            "                     Inula_verbascifolia       0.80      0.67      0.73         6\n",
            "                       Iris_pseudopalida       1.00      0.50      0.67         4\n",
            "                     Linaria_microsepala       1.00      0.57      0.73         7\n",
            "                         Moltkea_petraea       0.80      0.67      0.73         6\n",
            "                       Muscari_neglectum       0.75      0.75      0.75         4\n",
            "                          Papaver_rhoeas       0.83      0.83      0.83         6\n",
            "                   Securigera_securigera       0.67      1.00      0.80         4\n",
            "                        Spartium_junceum       0.67      0.80      0.73         5\n",
            "\n",
            "                                accuracy                           0.76       124\n",
            "                               macro avg       0.78      0.75      0.74       124\n",
            "                            weighted avg       0.79      0.76      0.75       124\n",
            "\n",
            "Downloading data from https://storage.googleapis.com/tensorflow/keras-applications/resnet/resnet50v2_weights_tf_dim_ordering_tf_kernels_notop.h5\n",
            "94674944/94668760 [==============================] - 2s 0us/step\n",
            "94683136/94668760 [==============================] - 2s 0us/step\n",
            "Epoch 1/10\n",
            "14/14 [==============================] - 151s 11s/step - loss: 2.9449 - accuracy: 0.1705 - val_loss: 2.3378 - val_accuracy: 0.3441\n",
            "Epoch 2/10\n",
            "14/14 [==============================] - 139s 10s/step - loss: 2.1923 - accuracy: 0.3438 - val_loss: 1.7527 - val_accuracy: 0.5484\n",
            "Epoch 3/10\n",
            "14/14 [==============================] - 138s 10s/step - loss: 1.6871 - accuracy: 0.5386 - val_loss: 1.4207 - val_accuracy: 0.5806\n",
            "Epoch 4/10\n",
            "14/14 [==============================] - 138s 10s/step - loss: 1.4629 - accuracy: 0.5727 - val_loss: 1.1970 - val_accuracy: 0.6667\n",
            "Epoch 5/10\n",
            "14/14 [==============================] - 138s 10s/step - loss: 1.2128 - accuracy: 0.6705 - val_loss: 1.0507 - val_accuracy: 0.7097\n",
            "Epoch 6/10\n",
            "14/14 [==============================] - 138s 10s/step - loss: 1.0864 - accuracy: 0.7136 - val_loss: 0.9790 - val_accuracy: 0.6989\n",
            "Epoch 7/10\n",
            "14/14 [==============================] - 139s 10s/step - loss: 0.9716 - accuracy: 0.7591 - val_loss: 0.8693 - val_accuracy: 0.7634\n",
            "Epoch 8/10\n",
            "14/14 [==============================] - 138s 10s/step - loss: 0.8973 - accuracy: 0.7750 - val_loss: 0.8494 - val_accuracy: 0.8065\n",
            "Epoch 9/10\n",
            "14/14 [==============================] - 140s 10s/step - loss: 0.8745 - accuracy: 0.7682 - val_loss: 0.7814 - val_accuracy: 0.8172\n",
            "Epoch 10/10\n",
            "14/14 [==============================] - 139s 10s/step - loss: 0.8192 - accuracy: 0.7909 - val_loss: 0.7583 - val_accuracy: 0.8280\n",
            "4/4 [==============================] - 28s 7s/step - loss: 0.8328 - accuracy: 0.7661\n"
          ]
        },
        {
          "output_type": "stream",
          "name": "stderr",
          "text": [
            "\r 67%|██████▋   | 2/3 [51:23<25:36, 1536.66s/it]"
          ]
        },
        {
          "output_type": "stream",
          "name": "stdout",
          "text": [
            "                                          precision    recall  f1-score   support\n",
            "\n",
            "                         Agave_americana       0.71      0.83      0.77         6\n",
            "                  Anacamptis_pyramidalis       0.67      1.00      0.80         4\n",
            "                         Aurinia_sinuata       0.57      0.57      0.57         7\n",
            "                   Campanula_pyramidalis       1.00      0.33      0.50         6\n",
            "                     Carduus_micropterus       1.00      0.80      0.89         5\n",
            "                 Chaerophyllum coloratum       0.57      0.67      0.62         6\n",
            "                       Consolida_regalis       0.86      0.86      0.86         7\n",
            "Convolvulus_althaeoides_ssp._tenuissimus       1.00      0.57      0.73         7\n",
            "         Coronilla_emerus_ssp._emeroides       0.78      0.88      0.82         8\n",
            "                         Echium_italicum       0.80      1.00      0.89         4\n",
            "        Euphorbia_characias_ssp_wulfenii       1.00      0.90      0.95        10\n",
            "                       Fibigia_triquetra       0.75      1.00      0.86        12\n",
            "                     Inula_verbascifolia       0.80      0.67      0.73         6\n",
            "                       Iris_pseudopalida       0.60      0.75      0.67         4\n",
            "                     Linaria_microsepala       0.62      0.71      0.67         7\n",
            "                         Moltkea_petraea       0.60      0.50      0.55         6\n",
            "                       Muscari_neglectum       1.00      0.50      0.67         4\n",
            "                          Papaver_rhoeas       0.83      0.83      0.83         6\n",
            "                   Securigera_securigera       0.80      1.00      0.89         4\n",
            "                        Spartium_junceum       0.80      0.80      0.80         5\n",
            "\n",
            "                                accuracy                           0.77       124\n",
            "                               macro avg       0.79      0.76      0.75       124\n",
            "                            weighted avg       0.79      0.77      0.76       124\n",
            "\n",
            "Downloading data from https://storage.googleapis.com/tensorflow/keras-applications/xception/xception_weights_tf_dim_ordering_tf_kernels_notop.h5\n",
            "83689472/83683744 [==============================] - 1s 0us/step\n",
            "83697664/83683744 [==============================] - 1s 0us/step\n",
            "Epoch 1/10\n",
            "14/14 [==============================] - 158s 11s/step - loss: 2.8591 - accuracy: 0.1295 - val_loss: 2.5137 - val_accuracy: 0.3226\n",
            "Epoch 2/10\n",
            "14/14 [==============================] - 144s 11s/step - loss: 2.4160 - accuracy: 0.3659 - val_loss: 2.1381 - val_accuracy: 0.5054\n",
            "Epoch 3/10\n",
            "14/14 [==============================] - 144s 10s/step - loss: 2.0821 - accuracy: 0.5000 - val_loss: 1.8842 - val_accuracy: 0.5484\n",
            "Epoch 4/10\n",
            "14/14 [==============================] - 144s 10s/step - loss: 1.8763 - accuracy: 0.5523 - val_loss: 1.6670 - val_accuracy: 0.6559\n",
            "Epoch 5/10\n",
            "14/14 [==============================] - 143s 10s/step - loss: 1.6819 - accuracy: 0.6341 - val_loss: 1.5227 - val_accuracy: 0.6559\n",
            "Epoch 6/10\n",
            "14/14 [==============================] - 144s 10s/step - loss: 1.5370 - accuracy: 0.6500 - val_loss: 1.3819 - val_accuracy: 0.6882\n",
            "Epoch 7/10\n",
            "14/14 [==============================] - 144s 10s/step - loss: 1.4009 - accuracy: 0.7159 - val_loss: 1.2871 - val_accuracy: 0.6989\n",
            "Epoch 8/10\n",
            "14/14 [==============================] - 144s 10s/step - loss: 1.2988 - accuracy: 0.7250 - val_loss: 1.2026 - val_accuracy: 0.7204\n",
            "Epoch 9/10\n",
            "14/14 [==============================] - 144s 10s/step - loss: 1.2028 - accuracy: 0.7500 - val_loss: 1.1471 - val_accuracy: 0.6989\n",
            "Epoch 10/10\n",
            "14/14 [==============================] - 145s 10s/step - loss: 1.1181 - accuracy: 0.7522 - val_loss: 1.0947 - val_accuracy: 0.7204\n",
            "4/4 [==============================] - 31s 8s/step - loss: 1.2089 - accuracy: 0.6855\n"
          ]
        },
        {
          "output_type": "stream",
          "name": "stderr",
          "text": [
            "100%|██████████| 3/3 [1:22:59<00:00, 1659.88s/it]"
          ]
        },
        {
          "output_type": "stream",
          "name": "stdout",
          "text": [
            "                                          precision    recall  f1-score   support\n",
            "\n",
            "                         Agave_americana       0.50      0.83      0.62         6\n",
            "                  Anacamptis_pyramidalis       0.30      0.75      0.43         4\n",
            "                         Aurinia_sinuata       0.57      0.57      0.57         7\n",
            "                   Campanula_pyramidalis       1.00      0.33      0.50         6\n",
            "                     Carduus_micropterus       1.00      0.60      0.75         5\n",
            "                 Chaerophyllum coloratum       0.83      0.83      0.83         6\n",
            "                       Consolida_regalis       0.55      0.86      0.67         7\n",
            "Convolvulus_althaeoides_ssp._tenuissimus       0.80      0.57      0.67         7\n",
            "         Coronilla_emerus_ssp._emeroides       0.62      0.62      0.62         8\n",
            "                         Echium_italicum       1.00      0.50      0.67         4\n",
            "        Euphorbia_characias_ssp_wulfenii       0.70      0.70      0.70        10\n",
            "                       Fibigia_triquetra       0.80      1.00      0.89        12\n",
            "                     Inula_verbascifolia       1.00      1.00      1.00         6\n",
            "                       Iris_pseudopalida       1.00      0.75      0.86         4\n",
            "                     Linaria_microsepala       0.80      0.57      0.67         7\n",
            "                         Moltkea_petraea       0.50      0.17      0.25         6\n",
            "                       Muscari_neglectum       1.00      0.50      0.67         4\n",
            "                          Papaver_rhoeas       0.67      0.67      0.67         6\n",
            "                   Securigera_securigera       1.00      0.50      0.67         4\n",
            "                        Spartium_junceum       0.56      1.00      0.71         5\n",
            "\n",
            "                                accuracy                           0.69       124\n",
            "                               macro avg       0.76      0.67      0.67       124\n",
            "                            weighted avg       0.75      0.69      0.68       124\n",
            "\n"
          ]
        },
        {
          "output_type": "stream",
          "name": "stderr",
          "text": [
            "\n"
          ]
        }
      ]
    },
    {
      "cell_type": "markdown",
      "source": [
        "Samo 2, 20 epoha:"
      ],
      "metadata": {
        "id": "mC2dKKAU0PRg"
      }
    },
    {
      "cell_type": "code",
      "source": [
        "model_benchmarks = {'model_name': [], 'num_model_params': [], 'validation_accuracy': [], 'test_accuracy': []}\n",
        "for model_name, model in tqdm(new_model_dict.items()):\n",
        "    if 'Xception' in model_name:\n",
        "        input_shape=(299,299,3)\n",
        "        train_processed = train_processed_299\n",
        "        validation_processed = validation_processed_299\n",
        "        test_processed = test_processed_299\n",
        "    else:\n",
        "        input_shape=(224,224,3)\n",
        "        train_processed = train_processed_224\n",
        "        validation_processed = validation_processed_224\n",
        "        test_processed = test_processed_224\n",
        "\n",
        "    # load the pre-trained model with global average pooling as the last layer and freeze the model weights\n",
        "    pre_trained_model = model(include_top=False, pooling='avg', input_shape=input_shape)\n",
        "    pre_trained_model.trainable = False\n",
        "\n",
        "    # custom modifications on top of pre-trained model\n",
        "    clf_model = tf.keras.models.Sequential()\n",
        "    clf_model.add(pre_trained_model)\n",
        "    clf_model.add(tf.keras.layers.Dense(num_classes, activation='softmax'))\n",
        "    clf_model.compile(optimizer='adam',loss='categorical_crossentropy', metrics=['accuracy'])\n",
        "    history = clf_model.fit(train_processed, epochs=20, validation_data=validation_processed,\n",
        "                            steps_per_epoch=num_iterations)\n",
        "    test_acc = clf_model.evaluate(test_processed)\n",
        "    predictions = clf_model.predict(test_processed)\n",
        "    predicted_classes = np.argmax(predictions, axis=1)\n",
        "    true_classes = test_processed.classes\n",
        "    class_labels = list(test_processed.class_indices.keys())\n",
        "\n",
        "    report = metrics.classification_report(true_classes, predicted_classes, target_names=class_labels)\n",
        "    print(report)\n",
        "\n",
        "    # Calculate all relevant metrics\n",
        "    model_benchmarks['model_name'].append(model_name)\n",
        "    model_benchmarks['num_model_params'].append(pre_trained_model.count_params())\n",
        "    model_benchmarks['validation_accuracy'].append(history.history['val_accuracy'][-1])\n",
        "    model_benchmarks['test_accuracy'].append(test_acc[-1])"
      ],
      "metadata": {
        "colab": {
          "base_uri": "https://localhost:8080/"
        },
        "id": "3AY1aIR0BckV",
        "outputId": "36e0f95c-5592-4ded-d289-e4fad17ac7ec"
      },
      "execution_count": null,
      "outputs": [
        {
          "output_type": "stream",
          "name": "stderr",
          "text": [
            "\r  0%|          | 0/2 [00:00<?, ?it/s]"
          ]
        },
        {
          "output_type": "stream",
          "name": "stdout",
          "text": [
            "Downloading data from https://storage.googleapis.com/tensorflow/keras-applications/resnet/resnet101v2_weights_tf_dim_ordering_tf_kernels_notop.h5\n",
            "171319296/171317808 [==============================] - 1s 0us/step\n",
            "171327488/171317808 [==============================] - 1s 0us/step\n",
            "Epoch 1/20\n",
            "14/14 [==============================] - 169s 11s/step - loss: 3.1600 - accuracy: 0.1273 - val_loss: 2.6487 - val_accuracy: 0.2473\n",
            "Epoch 2/20\n",
            "14/14 [==============================] - 140s 10s/step - loss: 2.2313 - accuracy: 0.3455 - val_loss: 1.8133 - val_accuracy: 0.4946\n",
            "Epoch 3/20\n",
            "14/14 [==============================] - 137s 10s/step - loss: 1.6268 - accuracy: 0.5523 - val_loss: 1.4912 - val_accuracy: 0.5591\n",
            "Epoch 4/20\n",
            "14/14 [==============================] - 135s 10s/step - loss: 1.3719 - accuracy: 0.6250 - val_loss: 1.2736 - val_accuracy: 0.6237\n",
            "Epoch 5/20\n",
            "14/14 [==============================] - 135s 10s/step - loss: 1.1749 - accuracy: 0.6909 - val_loss: 1.0955 - val_accuracy: 0.6882\n",
            "Epoch 6/20\n",
            "14/14 [==============================] - 135s 10s/step - loss: 1.0769 - accuracy: 0.7182 - val_loss: 1.0141 - val_accuracy: 0.7312\n",
            "Epoch 7/20\n",
            "14/14 [==============================] - 136s 10s/step - loss: 0.9752 - accuracy: 0.7318 - val_loss: 0.9416 - val_accuracy: 0.7527\n",
            "Epoch 8/20\n",
            "14/14 [==============================] - 135s 10s/step - loss: 0.8642 - accuracy: 0.7955 - val_loss: 0.8930 - val_accuracy: 0.7527\n",
            "Epoch 9/20\n",
            "14/14 [==============================] - 137s 10s/step - loss: 0.8454 - accuracy: 0.7682 - val_loss: 0.8690 - val_accuracy: 0.7742\n",
            "Epoch 10/20\n",
            "14/14 [==============================] - 142s 10s/step - loss: 0.7538 - accuracy: 0.8182 - val_loss: 0.8171 - val_accuracy: 0.7742\n",
            "Epoch 11/20\n",
            "14/14 [==============================] - 138s 10s/step - loss: 0.7231 - accuracy: 0.8159 - val_loss: 0.7697 - val_accuracy: 0.7849\n",
            "Epoch 12/20\n",
            "14/14 [==============================] - 141s 10s/step - loss: 0.7552 - accuracy: 0.7924 - val_loss: 0.7375 - val_accuracy: 0.8065\n",
            "Epoch 13/20\n",
            "14/14 [==============================] - 137s 10s/step - loss: 0.5935 - accuracy: 0.8568 - val_loss: 0.7339 - val_accuracy: 0.7849\n",
            "Epoch 14/20\n",
            "14/14 [==============================] - 139s 10s/step - loss: 0.6219 - accuracy: 0.8659 - val_loss: 0.6955 - val_accuracy: 0.8065\n",
            "Epoch 15/20\n",
            "14/14 [==============================] - 139s 10s/step - loss: 0.5568 - accuracy: 0.8773 - val_loss: 0.7103 - val_accuracy: 0.7957\n",
            "Epoch 16/20\n",
            "14/14 [==============================] - 137s 10s/step - loss: 0.5440 - accuracy: 0.8659 - val_loss: 0.6968 - val_accuracy: 0.8065\n",
            "Epoch 17/20\n",
            "14/14 [==============================] - 137s 10s/step - loss: 0.5318 - accuracy: 0.8682 - val_loss: 0.6560 - val_accuracy: 0.8065\n",
            "Epoch 18/20\n",
            "14/14 [==============================] - 137s 10s/step - loss: 0.5209 - accuracy: 0.8864 - val_loss: 0.6465 - val_accuracy: 0.8065\n",
            "Epoch 19/20\n",
            "14/14 [==============================] - 137s 10s/step - loss: 0.4839 - accuracy: 0.8705 - val_loss: 0.6118 - val_accuracy: 0.8065\n",
            "Epoch 20/20\n",
            "14/14 [==============================] - 136s 10s/step - loss: 0.4896 - accuracy: 0.8636 - val_loss: 0.6258 - val_accuracy: 0.8065\n",
            "4/4 [==============================] - 31s 8s/step - loss: 0.6522 - accuracy: 0.8145\n"
          ]
        },
        {
          "output_type": "stream",
          "name": "stderr",
          "text": [
            "\r 50%|█████     | 1/2 [49:31<49:31, 2971.29s/it]"
          ]
        },
        {
          "output_type": "stream",
          "name": "stdout",
          "text": [
            "                                          precision    recall  f1-score   support\n",
            "\n",
            "                         Agave_americana       0.83      0.83      0.83         6\n",
            "                  Anacamptis_pyramidalis       1.00      1.00      1.00         4\n",
            "                         Aurinia_sinuata       0.56      0.71      0.63         7\n",
            "                   Campanula_pyramidalis       0.67      0.67      0.67         6\n",
            "                     Carduus_micropterus       0.80      0.80      0.80         5\n",
            "                 Chaerophyllum coloratum       1.00      0.83      0.91         6\n",
            "                       Consolida_regalis       1.00      0.71      0.83         7\n",
            "Convolvulus_althaeoides_ssp._tenuissimus       0.57      0.57      0.57         7\n",
            "         Coronilla_emerus_ssp._emeroides       1.00      1.00      1.00         8\n",
            "                         Echium_italicum       0.50      0.75      0.60         4\n",
            "        Euphorbia_characias_ssp_wulfenii       0.82      0.90      0.86        10\n",
            "                       Fibigia_triquetra       0.92      1.00      0.96        12\n",
            "                     Inula_verbascifolia       0.86      1.00      0.92         6\n",
            "                       Iris_pseudopalida       1.00      0.50      0.67         4\n",
            "                     Linaria_microsepala       1.00      0.43      0.60         7\n",
            "                         Moltkea_petraea       0.67      0.67      0.67         6\n",
            "                       Muscari_neglectum       1.00      1.00      1.00         4\n",
            "                          Papaver_rhoeas       0.83      0.83      0.83         6\n",
            "                   Securigera_securigera       1.00      1.00      1.00         4\n",
            "                        Spartium_junceum       0.71      1.00      0.83         5\n",
            "\n",
            "                                accuracy                           0.81       124\n",
            "                               macro avg       0.84      0.81      0.81       124\n",
            "                            weighted avg       0.84      0.81      0.81       124\n",
            "\n",
            "Downloading data from https://storage.googleapis.com/tensorflow/keras-applications/resnet/resnet50v2_weights_tf_dim_ordering_tf_kernels_notop.h5\n",
            "94674944/94668760 [==============================] - 2s 0us/step\n",
            "94683136/94668760 [==============================] - 2s 0us/step\n",
            "Epoch 1/20\n",
            "14/14 [==============================] - 149s 11s/step - loss: 3.0237 - accuracy: 0.1228 - val_loss: 2.2639 - val_accuracy: 0.3226\n",
            "Epoch 2/20\n",
            "14/14 [==============================] - 136s 10s/step - loss: 2.1241 - accuracy: 0.4000 - val_loss: 1.7025 - val_accuracy: 0.4731\n",
            "Epoch 3/20\n",
            "14/14 [==============================] - 136s 10s/step - loss: 1.6618 - accuracy: 0.5114 - val_loss: 1.3769 - val_accuracy: 0.6129\n",
            "Epoch 4/20\n",
            "14/14 [==============================] - 136s 10s/step - loss: 1.3964 - accuracy: 0.6273 - val_loss: 1.2312 - val_accuracy: 0.6452\n",
            "Epoch 5/20\n",
            "14/14 [==============================] - 136s 10s/step - loss: 1.1753 - accuracy: 0.6932 - val_loss: 1.0916 - val_accuracy: 0.7204\n",
            "Epoch 6/20\n",
            "14/14 [==============================] - 136s 10s/step - loss: 1.1093 - accuracy: 0.6977 - val_loss: 0.9882 - val_accuracy: 0.7097\n",
            "Epoch 7/20\n",
            "14/14 [==============================] - 136s 10s/step - loss: 0.9653 - accuracy: 0.7295 - val_loss: 0.9151 - val_accuracy: 0.7312\n",
            "Epoch 8/20\n",
            "14/14 [==============================] - 136s 10s/step - loss: 0.8839 - accuracy: 0.7682 - val_loss: 0.8515 - val_accuracy: 0.7527\n",
            "Epoch 9/20\n",
            "14/14 [==============================] - 137s 10s/step - loss: 0.8816 - accuracy: 0.7795 - val_loss: 0.8038 - val_accuracy: 0.8065\n",
            "Epoch 10/20\n",
            "14/14 [==============================] - 139s 10s/step - loss: 0.7907 - accuracy: 0.7924 - val_loss: 0.7959 - val_accuracy: 0.7957\n",
            "Epoch 11/20\n",
            "14/14 [==============================] - 137s 10s/step - loss: 0.6988 - accuracy: 0.8386 - val_loss: 0.7291 - val_accuracy: 0.8065\n",
            "Epoch 12/20\n",
            "14/14 [==============================] - 137s 10s/step - loss: 0.7335 - accuracy: 0.8147 - val_loss: 0.6911 - val_accuracy: 0.8065\n",
            "Epoch 13/20\n",
            "14/14 [==============================] - 136s 10s/step - loss: 0.6509 - accuracy: 0.8295 - val_loss: 0.6867 - val_accuracy: 0.8280\n",
            "Epoch 14/20\n",
            "14/14 [==============================] - 137s 10s/step - loss: 0.6361 - accuracy: 0.8409 - val_loss: 0.6823 - val_accuracy: 0.8065\n",
            "Epoch 15/20\n",
            "14/14 [==============================] - 137s 10s/step - loss: 0.5873 - accuracy: 0.8614 - val_loss: 0.6562 - val_accuracy: 0.8387\n",
            "Epoch 16/20\n",
            "14/14 [==============================] - 137s 10s/step - loss: 0.5479 - accuracy: 0.8568 - val_loss: 0.6041 - val_accuracy: 0.8495\n",
            "Epoch 17/20\n",
            "14/14 [==============================] - 138s 10s/step - loss: 0.5435 - accuracy: 0.8504 - val_loss: 0.6231 - val_accuracy: 0.8602\n",
            "Epoch 18/20\n",
            "14/14 [==============================] - 138s 10s/step - loss: 0.5031 - accuracy: 0.8909 - val_loss: 0.6013 - val_accuracy: 0.8495\n",
            "Epoch 19/20\n",
            "14/14 [==============================] - 143s 10s/step - loss: 0.4577 - accuracy: 0.8818 - val_loss: 0.6000 - val_accuracy: 0.8495\n",
            "Epoch 20/20\n",
            "14/14 [==============================] - 140s 10s/step - loss: 0.4759 - accuracy: 0.8841 - val_loss: 0.5976 - val_accuracy: 0.8602\n",
            "4/4 [==============================] - 28s 7s/step - loss: 0.6231 - accuracy: 0.8387\n"
          ]
        },
        {
          "output_type": "stream",
          "name": "stderr",
          "text": [
            "100%|██████████| 2/2 [1:38:55<00:00, 2967.66s/it]"
          ]
        },
        {
          "output_type": "stream",
          "name": "stdout",
          "text": [
            "                                          precision    recall  f1-score   support\n",
            "\n",
            "                         Agave_americana       0.86      1.00      0.92         6\n",
            "                  Anacamptis_pyramidalis       0.80      1.00      0.89         4\n",
            "                         Aurinia_sinuata       0.62      0.71      0.67         7\n",
            "                   Campanula_pyramidalis       1.00      0.83      0.91         6\n",
            "                     Carduus_micropterus       1.00      1.00      1.00         5\n",
            "                 Chaerophyllum coloratum       1.00      0.83      0.91         6\n",
            "                       Consolida_regalis       0.78      1.00      0.88         7\n",
            "Convolvulus_althaeoides_ssp._tenuissimus       1.00      0.57      0.73         7\n",
            "         Coronilla_emerus_ssp._emeroides       0.70      0.88      0.78         8\n",
            "                         Echium_italicum       1.00      0.75      0.86         4\n",
            "        Euphorbia_characias_ssp_wulfenii       0.90      0.90      0.90        10\n",
            "                       Fibigia_triquetra       0.91      0.83      0.87        12\n",
            "                     Inula_verbascifolia       0.75      1.00      0.86         6\n",
            "                       Iris_pseudopalida       0.75      0.75      0.75         4\n",
            "                     Linaria_microsepala       1.00      0.57      0.73         7\n",
            "                         Moltkea_petraea       0.57      0.67      0.62         6\n",
            "                       Muscari_neglectum       1.00      0.75      0.86         4\n",
            "                          Papaver_rhoeas       1.00      1.00      1.00         6\n",
            "                   Securigera_securigera       0.80      1.00      0.89         4\n",
            "                        Spartium_junceum       0.80      0.80      0.80         5\n",
            "\n",
            "                                accuracy                           0.84       124\n",
            "                               macro avg       0.86      0.84      0.84       124\n",
            "                            weighted avg       0.86      0.84      0.84       124\n",
            "\n"
          ]
        },
        {
          "output_type": "stream",
          "name": "stderr",
          "text": [
            "\n"
          ]
        }
      ]
    },
    {
      "cell_type": "code",
      "source": [
        "confusion_matrix = metrics.confusion_matrix(y_true=true_classes, y_pred=predicted_classes)"
      ],
      "metadata": {
        "id": "W7YcX3X6MNeI"
      },
      "execution_count": null,
      "outputs": []
    },
    {
      "cell_type": "code",
      "source": [
        "disp = ConfusionMatrixDisplay(confusion_matrix=confusion_matrix, display_labels=class_labels)\n",
        "\n",
        "disp.plot(cmap=plt.cm.Blues, xticks_rotation=90)\n",
        "plt.show()"
      ],
      "metadata": {
        "colab": {
          "base_uri": "https://localhost:8080/",
          "height": 487
        },
        "id": "cO3_NC-3MVvU",
        "outputId": "9c9cd05d-3b75-4bb0-9cf8-abd2c57cda55"
      },
      "execution_count": null,
      "outputs": [
        {
          "output_type": "display_data",
          "data": {
            "text/plain": [
              "<Figure size 432x288 with 2 Axes>"
            ],
            "image/png": "[encoded data removed]"
          },
          "metadata": {
            "needs_background": "light"
          }
        }
      ]
    },
    {
      "cell_type": "code",
      "source": [
        "plt.plot(history.history['accuracy'])\n",
        "plt.plot(history.history['val_accuracy'])\n",
        "plt.title('model accuracy')\n",
        "plt.ylabel('accuracy')\n",
        "plt.xlabel('epoch')\n",
        "plt.legend(['train', 'validation'], loc='upper left')\n",
        "plt.show()"
      ],
      "metadata": {
        "colab": {
          "base_uri": "https://localhost:8080/",
          "height": 295
        },
        "id": "WKuNU2yGMoDM",
        "outputId": "c5be9a77-b370-4063-ed58-eeb8cfe2f728"
      },
      "execution_count": null,
      "outputs": [
        {
          "output_type": "display_data",
          "data": {
            "text/plain": [
              "<Figure size 432x288 with 1 Axes>"
            ],
            "image/png": "[encoded data removed]"
          },
          "metadata": {
            "needs_background": "light"
          }
        }
      ]
    },
    {
      "cell_type": "code",
      "source": [
        "plt.plot(history.history['loss'])\n",
        "plt.plot(history.history['val_loss'])\n",
        "plt.title('model accuracy')\n",
        "plt.ylabel('accuracy')\n",
        "plt.xlabel('epoch')\n",
        "plt.legend(['train', 'validation'], loc='upper left')\n",
        "plt.show()"
      ],
      "metadata": {
        "colab": {
          "base_uri": "https://localhost:8080/",
          "height": 295
        },
        "id": "y3LYpJbwMtRd",
        "outputId": "62662cfb-36a3-4849-b194-2fe014126060"
      },
      "execution_count": null,
      "outputs": [
        {
          "output_type": "display_data",
          "data": {
            "text/plain": [
              "<Figure size 432x288 with 1 Axes>"
            ],
            "image/png": "[encoded data removed]"
          },
          "metadata": {
            "needs_background": "light"
          }
        }
      ]
    }
  ]
}